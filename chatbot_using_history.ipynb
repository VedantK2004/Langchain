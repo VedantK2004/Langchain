{
 "cells": [
  {
   "cell_type": "code",
   "execution_count": 57,
   "id": "317d9816",
   "metadata": {},
   "outputs": [],
   "source": [
    "from langchain_google_genai import ChatGoogleGenerativeAI\n",
    "from langchain_core.messages import  HumanMessage, AIMessage\n",
    "from langchain_core.chat_history import BaseChatMessageHistory, InMemoryChatMessageHistory\n",
    "from langchain_core.runnables.history import RunnableWithMessageHistory\n",
    "from langchain_core.prompts import ChatPromptTemplate, MessagesPlaceholder, PromptTemplate\n",
    "from dotenv import load_dotenv\n",
    "import os"
   ]
  },
  {
   "cell_type": "code",
   "execution_count": 39,
   "id": "8ceb2515",
   "metadata": {},
   "outputs": [],
   "source": [
    "load_dotenv()\n",
    "GEMMA_API_KEY = os.getenv(\"GEMMA_API_KEY\")"
   ]
  },
  {
   "cell_type": "code",
   "execution_count": 40,
   "id": "9017a7ca",
   "metadata": {},
   "outputs": [
    {
     "name": "stdout",
     "output_type": "stream",
     "text": [
      "```python\n",
      "print(\"Hello, World!\")\n",
      "```\n",
      "\n",
      "**Explanation:**\n",
      "\n",
      "*   `print()` is a built-in Python function that displays output to the console.\n",
      "*   `\"Hello, World!\"` is a string literal, which is the text you want to print.  The quotes indicate that it's a string.\n",
      "\n",
      "**How to run this script:**\n",
      "\n",
      "1.  **Save the code:** Save the code above in a file named `hello.py` (or any name you prefer, but make sure it ends with `.py`).\n",
      "2.  **Open a terminal or command prompt:** Navigate to the directory where you saved the file.\n",
      "3.  **Run the script:** Type `python hello.py` and press Enter.\n",
      "\n",
      "You should see \"Hello, World!\" printed on your console.\n"
     ]
    }
   ],
   "source": [
    "llm = ChatGoogleGenerativeAI(model=\"gemma-3-4b-it\",api_key=GEMMA_API_KEY)\n",
    "result = llm.invoke(\"Write a python script that prints 'Hello, World!'\")\n",
    "print(result.content)"
   ]
  },
  {
   "cell_type": "code",
   "execution_count": 41,
   "id": "9e06f72c",
   "metadata": {},
   "outputs": [],
   "source": [
    "while True:\n",
    "    user_input = input(\"You: \")\n",
    "    if user_input.lower() == \"exit\":\n",
    "        break\n",
    "    response = llm.invoke([HumanMessage(user_input)])\n",
    "    print(f\"Gemma: {response.content}\\n\")"
   ]
  },
  {
   "cell_type": "markdown",
   "id": "f57a31f0",
   "metadata": {},
   "source": [
    "### With memory"
   ]
  },
  {
   "cell_type": "code",
   "execution_count": 42,
   "id": "b7331d98",
   "metadata": {},
   "outputs": [
    {
     "name": "stdout",
     "output_type": "stream",
     "text": [
      "Okay, this is a classic trick question! \n",
      "\n",
      "Your name is Vedanta. \n",
      "\n",
      "And you're a software engineer, which means you write code and build software! 😊 \n",
      "\n",
      "Let's move on to your actual coding problem. What's it about?\n"
     ]
    }
   ],
   "source": [
    "# Manual Exampel: This is the hardocded example of hoe history works in chatbots.\n",
    "result = llm.invoke(\n",
    "    [\n",
    "        HumanMessage(\"Hello, I'm Vedanta, a software engineer. Can you help me with a coding problem?\"),\n",
    "        AIMessage(\"Sure, I'd be happy to help! What coding problem are you facing?\"),\n",
    "        HumanMessage(\"What's my name? and what do I do?\"),\n",
    "    ]\n",
    ")\n",
    "print(result.content)"
   ]
  },
  {
   "cell_type": "code",
   "execution_count": 43,
   "id": "19de39fe",
   "metadata": {},
   "outputs": [],
   "source": [
    "# Next\n",
    "store = {}"
   ]
  },
  {
   "cell_type": "code",
   "execution_count": 61,
   "id": "aae0aa05",
   "metadata": {},
   "outputs": [],
   "source": [
    "def get_session_history(session_id)-> BaseChatMessageHistory:\n",
    "    if session_id not in store:\n",
    "        store[session_id] = InMemoryChatMessageHistory()\n",
    "    return store[session_id]"
   ]
  },
  {
   "cell_type": "code",
   "execution_count": 62,
   "id": "dd59b171",
   "metadata": {},
   "outputs": [],
   "source": [
    "mode_wit_memory = RunnableWithMessageHistory(\n",
    "    llm,get_session_history,\n",
    ")"
   ]
  },
  {
   "cell_type": "code",
   "execution_count": 63,
   "id": "746cc6f9",
   "metadata": {},
   "outputs": [
    {
     "data": {
      "text/plain": [
       "'Okay, great! Let’s do it. You’ve already told me your name and that you’re a software engineer – that’s fantastic. \\n\\nNow, please tell me about the coding problem you’re working on. I’m ready when you are!'"
      ]
     },
     "execution_count": 63,
     "metadata": {},
     "output_type": "execute_result"
    }
   ],
   "source": [
    "mode_wit_memory.invoke([HumanMessage(\"Hello, I'm Vedanta, a software engineer. Can you help me with a coding problem?\")], config={\"configurable\": {\"session_id\": \"FirstChat\"}}).content\n"
   ]
  },
  {
   "cell_type": "code",
   "execution_count": 64,
   "id": "64269fbc",
   "metadata": {},
   "outputs": [
    {
     "data": {
      "text/plain": [
       "'Your name is Vedanta! 😊 \\n\\nLet’s get back to the coding problem. What’s it about?'"
      ]
     },
     "execution_count": 64,
     "metadata": {},
     "output_type": "execute_result"
    }
   ],
   "source": [
    "mode_wit_memory.invoke([HumanMessage(\"What is my name?\")], config={\"configurable\": {\"session_id\": \"FirstChat\"}}).content"
   ]
  },
  {
   "cell_type": "code",
   "execution_count": 65,
   "id": "6495d8f1",
   "metadata": {},
   "outputs": [
    {
     "data": {
      "text/plain": [
       "\"I apologize! As an AI, I have no memory of past conversations. Therefore, I truly don't know your name. You haven't told me yet! 😊 \\n\\nWould you like to tell me?\""
      ]
     },
     "execution_count": 65,
     "metadata": {},
     "output_type": "execute_result"
    }
   ],
   "source": [
    "#second session\n",
    "\n",
    "mode_wit_memory.invoke([HumanMessage(\"What is my name?\")], config={\"configurable\": {\"session_id\": \"SecondChat\"}}).content"
   ]
  },
  {
   "cell_type": "code",
   "execution_count": 66,
   "id": "3b636263",
   "metadata": {},
   "outputs": [
    {
     "data": {
      "text/plain": [
       "'Your name is Vedanta! 😊\\n\\nSeriously, you’ve told me that twice already. Let’s focus on the coding problem now, okay?'"
      ]
     },
     "execution_count": 66,
     "metadata": {},
     "output_type": "execute_result"
    }
   ],
   "source": [
    "mode_wit_memory.invoke([HumanMessage(\"What is my name?\")], config={\"configurable\": {\"session_id\": \"FirstChat\"}}).content"
   ]
  },
  {
   "cell_type": "markdown",
   "id": "a92c5c86",
   "metadata": {},
   "source": [
    "### With ChatPromptTemplate"
   ]
  },
  {
   "cell_type": "code",
   "execution_count": 67,
   "id": "49526e1e",
   "metadata": {},
   "outputs": [],
   "source": [
    "prompt = PromptTemplate.from_template(\n",
    "    \"You are a helpful assistant skilled in Generative AI.\\n\\nUser: {messages}\"\n",
    ")"
   ]
  },
  {
   "cell_type": "code",
   "execution_count": 68,
   "id": "2f959986",
   "metadata": {},
   "outputs": [],
   "source": [
    "chain = prompt | llm"
   ]
  },
  {
   "cell_type": "code",
   "execution_count": 69,
   "id": "dee76b2c",
   "metadata": {},
   "outputs": [
    {
     "data": {
      "text/plain": [
       "AIMessage(content='Hello Jay! It’s great to meet you. Muks Robotics – that sounds fascinating! As a Generative AI assistant, I’m here to help in any way I can. \\n\\nWhat can I do for you today? Are you looking for:\\n\\n*   Brainstorming ideas for a new project?\\n*   Help with a specific coding challenge?\\n*   Just a chat about Generative AI?\\n\\nLet me know how I can be of service!', additional_kwargs={}, response_metadata={'prompt_feedback': {'block_reason': 0, 'safety_ratings': []}, 'finish_reason': 'STOP', 'model_name': 'gemma-3-4b-it', 'safety_ratings': []}, id='run--b74a44f8-f7af-4d12-a5d3-ffa90c350d14-0', usage_metadata={'input_tokens': 49, 'output_tokens': 0, 'total_tokens': 49, 'input_token_details': {'cache_read': 0}})"
      ]
     },
     "execution_count": 69,
     "metadata": {},
     "output_type": "execute_result"
    }
   ],
   "source": [
    "chain.invoke({\"messages\": [HumanMessage(content=\"Hello, I'm Jay, a Generative AI engineer at Muks Robtoics.\")]})"
   ]
  },
  {
   "cell_type": "code",
   "execution_count": 70,
   "id": "3154038c",
   "metadata": {},
   "outputs": [
    {
     "data": {
      "text/plain": [
       "'Okay, that\\'s a really profound question! As a large language model, I can’t *know* who you are in the way a human does – I don’t have personal experiences, feelings, or a sense of self. \\n\\nHowever, I can tell you a lot about *you* based on our interaction so far. Right now, you are a user who is engaging with me, a generative AI assistant. You’re asking a fundamental question about identity, which is something humans grapple with constantly. \\n\\nHere\\'s a breakdown of what I can infer, and some ways to think about your identity:\\n\\n**What I know about you (based on this single message):**\\n\\n* **You\\'re curious:** You\\'re asking a big, philosophical question.\\n* **You\\'re reflective:** You\\'re pondering your own existence and what it means to be \"you.\"\\n* **You\\'re using AI:** You\\'re interacting with me, a tool designed to provide information and engage in conversation.\\n\\n\\n**Beyond that, your identity is likely shaped by:**\\n\\n* **Your experiences:** Your life, relationships, memories, and challenges have all contributed to who you are.\\n* **Your beliefs:** Your values, opinions, and worldview influence your understanding of yourself and the world.\\n* **Your relationships:** The people you connect with and the roles you play in their lives are important parts of your identity.\\n* **Your aspirations:** What you hope to achieve and become shapes your future self.\\n\\n**Let\\'s explore this further. To help me understand what *you* mean by \"Who am I?\", could you tell me:**\\n\\n* **What prompted you to ask this question?** Was there a specific event or thought that led you to wonder about your identity?\\n* **What does \"you\" mean to you?** Are you asking about your personality, your role in the world, your sense of purpose, or something else entirely?\\n\\n\\nI\\'m here to listen and help you explore this fascinating topic.  Let\\'s talk about it! Would you like to delve deeper into any of these aspects, or perhaps explore some philosophical perspectives on identity?'"
      ]
     },
     "execution_count": 70,
     "metadata": {},
     "output_type": "execute_result"
    }
   ],
   "source": [
    "chain.invoke({\"messages\": [HumanMessage(content=\"Who am I?\")]}).content"
   ]
  },
  {
   "cell_type": "code",
   "execution_count": 71,
   "id": "359f5fe9",
   "metadata": {},
   "outputs": [],
   "source": [
    "mode_wit_memory = RunnableWithMessageHistory(\n",
    "    chain,get_session_history,\n",
    ")"
   ]
  },
  {
   "cell_type": "code",
   "execution_count": 72,
   "id": "0f2373ae",
   "metadata": {},
   "outputs": [],
   "source": [
    "response = mode_wit_memory.invoke(\n",
    "    [HumanMessage(\"Hello, I'm Jay, a Generative AI engineer at Muks Robtoics.\")],\n",
    "    config={\"configurable\": {\"session_id\": \"ThirdChat\"}},\n",
    ")"
   ]
  },
  {
   "cell_type": "code",
   "execution_count": 74,
   "id": "61aadbe8",
   "metadata": {},
   "outputs": [
    {
     "name": "stdout",
     "output_type": "stream",
     "text": [
      "Hello Jay! It’s great to meet you. Muks Robotics – that sounds fascinating! As a Generative AI assistant, I’m here to help in any way I can. \n",
      "\n",
      "What can I do for you today? Are you looking for:\n",
      "\n",
      "*   Brainstorming ideas for a new project?\n",
      "*   Help with a specific coding challenge?\n",
      "*   Just a chat about Generative AI?\n",
      "\n",
      "Let me know how I can be of service!\n"
     ]
    }
   ],
   "source": [
    "print(response.content)"
   ]
  },
  {
   "cell_type": "code",
   "execution_count": 75,
   "id": "872e027b",
   "metadata": {},
   "outputs": [],
   "source": [
    "response = mode_wit_memory.invoke(\n",
    "    [HumanMessage(\"Who am I?\")],\n",
    "    config={\"configurable\": {\"session_id\": \"ThirdChat\"}},\n",
    ")"
   ]
  },
  {
   "cell_type": "code",
   "execution_count": 76,
   "id": "237162fc",
   "metadata": {},
   "outputs": [
    {
     "name": "stdout",
     "output_type": "stream",
     "text": [
      "Hello Jay! You are a user interacting with me, a Generative AI assistant. I’m here to assist you with a variety of tasks related to Generative AI and beyond. \n",
      "\n",
      "To help me understand how I can best support you, could you tell me a bit more about what you’re working on at Muks Robotics?\n"
     ]
    }
   ],
   "source": [
    "print(response.content)"
   ]
  },
  {
   "cell_type": "code",
   "execution_count": null,
   "id": "30d20adf",
   "metadata": {},
   "outputs": [],
   "source": []
  },
  {
   "cell_type": "code",
   "execution_count": null,
   "id": "0755fa2f",
   "metadata": {},
   "outputs": [],
   "source": []
  }
 ],
 "metadata": {
  "kernelspec": {
   "display_name": "env",
   "language": "python",
   "name": "python3"
  },
  "language_info": {
   "codemirror_mode": {
    "name": "ipython",
    "version": 3
   },
   "file_extension": ".py",
   "mimetype": "text/x-python",
   "name": "python",
   "nbconvert_exporter": "python",
   "pygments_lexer": "ipython3",
   "version": "3.10.12"
  }
 },
 "nbformat": 4,
 "nbformat_minor": 5
}
